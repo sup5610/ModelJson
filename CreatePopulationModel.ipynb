{
 "cells": [
  {
   "cell_type": "code",
   "execution_count": 26,
   "metadata": {},
   "outputs": [],
   "source": [
    "import json\n",
    "import socket\n",
    "import time\n",
    "import random\n",
    "import uuid"
   ]
  },
  {
   "cell_type": "code",
   "execution_count": 27,
   "metadata": {},
   "outputs": [],
   "source": [
    "class Animal:\n",
    "    def __init__(self, attack, health, speed):\n",
    "        self.attack = attack\n",
    "        self.health = health\n",
    "        self.speed = speed\n",
    "\n",
    "\n",
    "class Predator(Animal):\n",
    "    def __init__(self, attack, health, speed):\n",
    "        super().__init__(attack, health, speed)\n",
    "\n",
    "class Wolf(Predator):\n",
    "    identifier = 1\n",
    "\n",
    "    def __init__(self, attack, health, speed):\n",
    "        self.id = Wolf.identifier\n",
    "        super().__init__(attack, health, speed)\n",
    "        self.guid = generateUUID()\n",
    "\n",
    "        Wolf.identifier += 1\n",
    "    \n",
    "class Jaguar(Predator):\n",
    "    identifier = 1\n",
    "\n",
    "    def __init__(self, attack, health, speed):\n",
    "        self.id = Jaguar.identifier\n",
    "        super().__init__(attack, health, speed)\n",
    "        self.guid = generateUUID()\n",
    "        \n",
    "        Jaguar.identifier += 1\n",
    "\n",
    "\n",
    "\n",
    "class Prey(Animal):\n",
    "    def __init__(self, attack, health, speed):\n",
    "        super().__init__(attack, health, speed)\n",
    "\n",
    "class Rabbit(Prey):\n",
    "    identifier = 1\n",
    "\n",
    "    def __init__(self, attack, health, speed):\n",
    "        self.id = Rabbit.identifier\n",
    "        super().__init__(attack, health, speed)\n",
    "        self.guid = generateUUID()\n",
    "\n",
    "        Rabbit.identifier += 1\n",
    "\n",
    "class Deer(Prey):\n",
    "    identifier = 1\n",
    "\n",
    "    def __init__(self, attack, health, speed):\n",
    "        self.id = Deer.identifier\n",
    "        super().__init__(attack, health, speed)\n",
    "        self.guid = generateUUID()\n",
    "\n",
    "        Deer.identifier += 1\n",
    "\n",
    "def generateUUID():\n",
    "    return str(uuid.uuid4())"
   ]
  },
  {
   "cell_type": "code",
   "execution_count": 28,
   "metadata": {},
   "outputs": [],
   "source": [
    "# Rabbit(random.randint(1, 10), random.randint(1, 10), random.randint(1, 10)) # generate instance of rabbit with random stats"
   ]
  },
  {
   "cell_type": "code",
   "execution_count": 29,
   "metadata": {},
   "outputs": [],
   "source": [
    "def init_population():\n",
    "\n",
    "    wolfList = [Wolf(random.randint(1, 10), random.randint(1, 10), random.randint(1, 10)).__dict__ for i in range(2)]\n",
    "    jaguarList = [Jaguar(random.randint(1, 10), random.randint(1, 10), random.randint(1, 10)).__dict__ for i in range(2)]\n",
    "    rabbitList = [Rabbit(random.randint(1, 10), random.randint(1, 10), random.randint(1, 10)).__dict__ for i in range(2)]\n",
    "    deerList = [Deer(random.randint(1, 10), random.randint(1, 10), random.randint(1, 10)).__dict__ for i in range(2)]\n",
    "    \n",
    "    listOfPred = [{\"wolves\": wolfList}, {\"jaguars\": jaguarList}]\n",
    "    listOfPrey = [{\"rabbits\": rabbitList}, {\"deer\": deerList}]\n",
    "    animalList = {\"preyList\": listOfPrey, \"predList\": listOfPred}\n",
    "    return animalList\n",
    "\n",
    "startPop = init_population()\n",
    "# startPop = json.dumps(startPop)"
   ]
  },
  {
   "cell_type": "code",
   "execution_count": 30,
   "metadata": {},
   "outputs": [],
   "source": [
    "# host, port = \"127.0.0.1\", 64738 #################################################\n",
    "# sock = socket.socket(socket.AF_INET, socket.SOCK_STREAM) #################################################\n",
    "# sock.connect((host, port)) #################################################\n",
    "\n",
    "# data = startPop\n",
    "\n",
    "# while True:\n",
    "#     time.sleep(1)\n",
    "    \n",
    "#     sock.sendall(data.encode(\"UTF-8\")) #################################################\n",
    "    \n",
    "#     recievedData = sock.recv(1024).decode(\"UTF-8\") #################################################\n",
    "#     print(recievedData)"
   ]
  },
  {
   "cell_type": "code",
   "execution_count": 31,
   "metadata": {},
   "outputs": [],
   "source": [
    "out_file = open(\"startingPopulation.json\", \"w\")\n",
    "json.dump(startPop, out_file, indent = 4)\n",
    "out_file.close()"
   ]
  }
 ],
 "metadata": {
  "kernelspec": {
   "display_name": "Python 3.9.7 ('4opencv')",
   "language": "python",
   "name": "python3"
  },
  "language_info": {
   "codemirror_mode": {
    "name": "ipython",
    "version": 3
   },
   "file_extension": ".py",
   "mimetype": "text/x-python",
   "name": "python",
   "nbconvert_exporter": "python",
   "pygments_lexer": "ipython3",
   "version": "3.9.7"
  },
  "orig_nbformat": 4,
  "vscode": {
   "interpreter": {
    "hash": "02f7b4005e114b4721dda66080288c9f0ba478e7a6e6596001d23b25d0361f1b"
   }
  }
 },
 "nbformat": 4,
 "nbformat_minor": 2
}
